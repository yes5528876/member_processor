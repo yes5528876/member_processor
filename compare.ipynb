{
 "cells": [
  {
   "cell_type": "code",
   "execution_count": null,
   "metadata": {},
   "outputs": [],
   "source": [
    "from tracemalloc import start\n",
    "from unicodedata import name\n",
    "import pandas as pd\n",
    "import numpy as np\n",
    "import matplotlib.pyplot as plt\n",
    "import os,sys\n",
    "import string\n",
    "import csv\n",
    "import glob\n",
    "from tkinter import *   # from tkinter import Tk for Python 3.x\n",
    "from tkinter import filedialog\n",
    "from tkinter.filedialog import askopenfilename\n",
    "from tkinter.filedialog import *\n",
    "import warnings\n",
    "from openpyxl.reader.excel import load_workbook\n",
    "from openpyxl.styles import Border,Side,Alignment,Font\n",
    "import unittest, time, re\n",
    "warnings.filterwarnings(\"ignore\")"
   ]
  }
 ],
 "metadata": {
  "language_info": {
   "name": "python"
  },
  "orig_nbformat": 4
 },
 "nbformat": 4,
 "nbformat_minor": 2
}
